{
  "nbformat": 4,
  "nbformat_minor": 0,
  "metadata": {
    "colab": {
      "provenance": [],
      "authorship_tag": "ABX9TyOlVXdEimq5DWbNCBCZiNsq",
      "include_colab_link": true
    },
    "kernelspec": {
      "name": "python3",
      "display_name": "Python 3"
    },
    "language_info": {
      "name": "python"
    }
  },
  "cells": [
    {
      "cell_type": "markdown",
      "metadata": {
        "id": "view-in-github",
        "colab_type": "text"
      },
      "source": [
        "<a href=\"https://colab.research.google.com/github/mridulmahajan04/sampling-techniques-and-models/blob/main/sampling.ipynb\" target=\"_parent\"><img src=\"https://colab.research.google.com/assets/colab-badge.svg\" alt=\"Open In Colab\"/></a>"
      ]
    },
    {
      "cell_type": "code",
      "source": [
        "import pandas as pd\n",
        "from imblearn.over_sampling import SMOTE\n",
        "from collections import Counter\n",
        "import numpy as np\n",
        "\n",
        "dataset = pd.read_csv('sample_dataset.csv')\n",
        "\n",
        "print(\"Columns in the dataset:\", dataset.columns)\n",
        "\n",
        "X_features = dataset.drop(columns=['Class'])\n",
        "y_target = dataset['Class']\n",
        "\n",
        "smote_oversampler = SMOTE(random_state=42)\n",
        "\n",
        "X_resampled, y_resampled = smote_oversampler.fit_resample(X_features, y_target)\n",
        "\n",
        "resampled_dataset = pd.DataFrame(X_resampled, columns=X_features.columns)\n",
        "resampled_dataset['Class'] = y_resampled\n",
        "\n",
        "class_dist_after_smote = Counter(y_resampled)\n",
        "print(f\"\\nClass distribution after applying SMOTE:\\n{class_dist_after_smote}\")\n"
      ],
      "metadata": {
        "colab": {
          "base_uri": "https://localhost:8080/"
        },
        "id": "Krouk_m-zC-0",
        "outputId": "bda9988c-23f2-40de-8c2b-7456a4e9e71a"
      },
      "execution_count": 56,
      "outputs": [
        {
          "output_type": "stream",
          "name": "stdout",
          "text": [
            "Columns in the dataset: Index(['Time', 'V1', 'V2', 'V3', 'V4', 'V5', 'V6', 'V7', 'V8', 'V9', 'V10',\n",
            "       'V11', 'V12', 'V13', 'V14', 'V15', 'V16', 'V17', 'V18', 'V19', 'V20',\n",
            "       'V21', 'V22', 'V23', 'V24', 'V25', 'V26', 'V27', 'V28', 'Amount',\n",
            "       'Class'],\n",
            "      dtype='object')\n",
            "\n",
            "Class distribution after applying SMOTE:\n",
            "Counter({0: 763, 1: 763})\n"
          ]
        }
      ]
    },
    {
      "cell_type": "code",
      "source": [
        "simple_random_sample = resampled_dataset.sample(frac=0.2, random_state=42)\n",
        "print(\"\\nSimple Random Sampling (20% of the data):\")\n",
        "print(simple_random_sample['Class'].value_counts())"
      ],
      "metadata": {
        "colab": {
          "base_uri": "https://localhost:8080/"
        },
        "id": "1xTb1rbv5TkB",
        "outputId": "b4488971-1dba-43d2-bcbd-eadc003effe6"
      },
      "execution_count": 57,
      "outputs": [
        {
          "output_type": "stream",
          "name": "stdout",
          "text": [
            "\n",
            "Simple Random Sampling (20% of the data):\n",
            "Class\n",
            "1    162\n",
            "0    143\n",
            "Name: count, dtype: int64\n"
          ]
        }
      ]
    },
    {
      "cell_type": "code",
      "source": [
        "stratified_sample = resampled_dataset.groupby('Class', group_keys=False).apply(lambda x: x.sample(frac=0.2, random_state=42))\n",
        "print(\"\\nStratified Sampling (20% of the data):\")\n",
        "print(stratified_sample['Class'].value_counts())"
      ],
      "metadata": {
        "colab": {
          "base_uri": "https://localhost:8080/"
        },
        "id": "crRt7BQu6GNF",
        "outputId": "b9ae8c60-648c-4f45-b441-6eb6a7bae08c"
      },
      "execution_count": 58,
      "outputs": [
        {
          "output_type": "stream",
          "name": "stdout",
          "text": [
            "\n",
            "Stratified Sampling (20% of the data):\n",
            "Class\n",
            "0    153\n",
            "1    153\n",
            "Name: count, dtype: int64\n"
          ]
        },
        {
          "output_type": "stream",
          "name": "stderr",
          "text": [
            "<ipython-input-58-b3116d3e122f>:1: DeprecationWarning: DataFrameGroupBy.apply operated on the grouping columns. This behavior is deprecated, and in a future version of pandas the grouping columns will be excluded from the operation. Either pass `include_groups=False` to exclude the groupings or explicitly select the grouping columns after groupby to silence this warning.\n",
            "  stratified_sample = resampled_dataset.groupby('Class', group_keys=False).apply(lambda x: x.sample(frac=0.2, random_state=42))\n"
          ]
        }
      ]
    },
    {
      "cell_type": "code",
      "source": [
        "systematic_indices = np.arange(0, len(resampled_dataset), step=5)\n",
        "systematic_sample = resampled_dataset.iloc[systematic_indices]\n",
        "print(\"\\nSystematic Sampling (Select every 5th record):\")\n",
        "print(systematic_sample['Class'].value_counts())"
      ],
      "metadata": {
        "colab": {
          "base_uri": "https://localhost:8080/"
        },
        "id": "3CQoBog16RIf",
        "outputId": "a1de4853-2b58-49bc-817c-ca0d0c8ad53d"
      },
      "execution_count": 59,
      "outputs": [
        {
          "output_type": "stream",
          "name": "stdout",
          "text": [
            "\n",
            "Systematic Sampling (Select every 5th record):\n",
            "Class\n",
            "0    155\n",
            "1    151\n",
            "Name: count, dtype: int64\n"
          ]
        }
      ]
    },
    {
      "cell_type": "code",
      "source": [
        "resampled_dataset['Cluster'] = pd.qcut(resampled_dataset['V1'], q=5, labels=False)\n",
        "cluster_sample = resampled_dataset[resampled_dataset['Cluster'] == 0]\n",
        "print(\"\\nCluster Sampling (Select Cluster 0):\")\n",
        "print(cluster_sample['Class'].value_counts())"
      ],
      "metadata": {
        "colab": {
          "base_uri": "https://localhost:8080/"
        },
        "id": "m4hiE9Jj6UaN",
        "outputId": "3ff05b39-3f76-4a0a-def9-04520ee2c6f7"
      },
      "execution_count": 60,
      "outputs": [
        {
          "output_type": "stream",
          "name": "stdout",
          "text": [
            "\n",
            "Cluster Sampling (Select Cluster 0):\n",
            "Class\n",
            "1    236\n",
            "0     70\n",
            "Name: count, dtype: int64\n"
          ]
        }
      ]
    },
    {
      "cell_type": "code",
      "source": [
        "bootstrap_sample = resampled_dataset.sample(n=len(resampled_dataset), replace=True, random_state=42)\n",
        "print(\"\\nBootstrap Sampling (Sample with replacement):\")\n",
        "print(bootstrap_sample['Class'].value_counts())"
      ],
      "metadata": {
        "colab": {
          "base_uri": "https://localhost:8080/"
        },
        "id": "Wa_QXqgR6d28",
        "outputId": "49645ded-aedd-48fc-89a4-08c3a6928b54"
      },
      "execution_count": 61,
      "outputs": [
        {
          "output_type": "stream",
          "name": "stdout",
          "text": [
            "\n",
            "Bootstrap Sampling (Sample with replacement):\n",
            "Class\n",
            "1    811\n",
            "0    715\n",
            "Name: count, dtype: int64\n"
          ]
        }
      ]
    },
    {
      "cell_type": "code",
      "source": [
        "from sklearn.model_selection import train_test_split\n",
        "from sklearn.linear_model import LogisticRegression\n",
        "from sklearn.tree import DecisionTreeClassifier\n",
        "from sklearn.ensemble import RandomForestClassifier\n",
        "from sklearn.svm import SVC\n",
        "from sklearn.neighbors import KNeighborsClassifier\n",
        "from sklearn.metrics import accuracy_score\n",
        "\n",
        "models = {\n",
        "    \"Logistic Regression\": LogisticRegression(random_state=42, solver='saga', max_iter=1000),\n",
        "    \"Decision Tree\": DecisionTreeClassifier(random_state=42),\n",
        "    \"Random Forest\": RandomForestClassifier(random_state=42, n_estimators=1000),\n",
        "    \"Support Vector Machine\": SVC(random_state=42),\n",
        "    \"K-Nearest Neighbors\": KNeighborsClassifier(n_neighbors=5)\n",
        "}\n",
        "\n",
        "def evaluate_models(X_train, y_train, X_test, y_test):\n",
        "    results = {}\n",
        "    for model_name, model in models.items():\n",
        "        model.fit(X_train, y_train)\n",
        "        y_pred = model.predict(X_test)\n",
        "        accuracy = accuracy_score(y_test, y_pred)\n",
        "        results[model_name] = accuracy\n",
        "    return results\n",
        "\n",
        "X_simple = simple_random_sample.drop(columns=['Class'])\n",
        "y_simple = simple_random_sample['Class']\n",
        "X_train_simple, X_test_simple, y_train_simple, y_test_simple = train_test_split(X_simple, y_simple, test_size=0.2, random_state=42, stratify=y_simple)\n",
        "results_simple = evaluate_models(X_train_simple, y_train_simple, X_test_simple, y_test_simple)\n"
      ],
      "metadata": {
        "colab": {
          "base_uri": "https://localhost:8080/"
        },
        "id": "ZP40uqXh6hTE",
        "outputId": "788483ff-af9c-4f15-9f41-b8e4b46c7482"
      },
      "execution_count": 62,
      "outputs": [
        {
          "output_type": "stream",
          "name": "stderr",
          "text": [
            "/usr/local/lib/python3.11/dist-packages/sklearn/linear_model/_sag.py:348: ConvergenceWarning: The max_iter was reached which means the coef_ did not converge\n",
            "  warnings.warn(\n"
          ]
        }
      ]
    },
    {
      "cell_type": "code",
      "source": [
        "X_stratified = stratified_sample.drop(columns=['Class'])\n",
        "y_stratified = stratified_sample['Class']\n",
        "X_train_stratified, X_test_stratified, y_train_stratified, y_test_stratified = train_test_split(X_stratified, y_stratified, test_size=0.2, random_state=42, stratify=y_stratified)\n",
        "results_stratified = evaluate_models(X_train_stratified, y_train_stratified, X_test_stratified, y_test_stratified)\n",
        "\n",
        "X_systematic = systematic_sample.drop(columns=['Class'])\n",
        "y_systematic = systematic_sample['Class']\n",
        "X_train_systematic, X_test_systematic, y_train_systematic, y_test_systematic = train_test_split(X_systematic, y_systematic, test_size=0.2, random_state=42, stratify=y_systematic)\n",
        "results_systematic = evaluate_models(X_train_systematic, y_train_systematic, X_test_systematic, y_test_systematic)\n",
        "\n",
        "X_cluster = cluster_sample.drop(columns=['Class', 'Cluster'])  # Drop 'Cluster' column\n",
        "y_cluster = cluster_sample['Class']\n",
        "X_train_cluster, X_test_cluster, y_train_cluster, y_test_cluster = train_test_split(X_cluster, y_cluster, test_size=0.2, random_state=42, stratify=y_cluster)\n",
        "results_cluster = evaluate_models(X_train_cluster, y_train_cluster, X_test_cluster, y_test_cluster)\n",
        "\n",
        "X_bootstrap = bootstrap_sample.drop(columns=['Class'])\n",
        "y_bootstrap = bootstrap_sample['Class']\n",
        "X_train_bootstrap, X_test_bootstrap, y_train_bootstrap, y_test_bootstrap = train_test_split(X_bootstrap, y_bootstrap, test_size=0.2, random_state=42, stratify=y_bootstrap)\n",
        "results_bootstrap = evaluate_models(X_train_bootstrap, y_train_bootstrap, X_test_bootstrap, y_test_bootstrap)\n",
        "\n",
        "print(\"\\nModel Performance on Simple Random Sampling:\")\n",
        "for model, accuracy in results_simple.items():\n",
        "    print(f\"{model}: {accuracy:.2f}\")\n",
        "\n",
        "print(\"\\nModel Performance on Stratified Sampling:\")\n",
        "for model, accuracy in results_stratified.items():\n",
        "    print(f\"{model}: {accuracy:.2f}\")\n",
        "\n",
        "print(\"\\nModel Performance on Systematic Sampling:\")\n",
        "for model, accuracy in results_systematic.items():\n",
        "    print(f\"{model}: {accuracy:.2f}\")\n",
        "\n",
        "print(\"\\nModel Performance on Cluster Sampling:\")\n",
        "for model, accuracy in results_cluster.items():\n",
        "    print(f\"{model}: {accuracy:.2f}\")\n",
        "\n",
        "print(\"\\nModel Performance on Bootstrap Sampling:\")\n",
        "for model, accuracy in results_bootstrap.items():\n",
        "    print(f\"{model}: {accuracy:.2f}\")"
      ],
      "metadata": {
        "colab": {
          "base_uri": "https://localhost:8080/"
        },
        "id": "uT3nNJYu8vgT",
        "outputId": "f07ee6bd-9067-41ee-fd9c-853fb5e6285b"
      },
      "execution_count": 54,
      "outputs": [
        {
          "output_type": "stream",
          "name": "stderr",
          "text": [
            "/usr/local/lib/python3.11/dist-packages/sklearn/linear_model/_sag.py:348: ConvergenceWarning: The max_iter was reached which means the coef_ did not converge\n",
            "  warnings.warn(\n",
            "/usr/local/lib/python3.11/dist-packages/sklearn/linear_model/_sag.py:348: ConvergenceWarning: The max_iter was reached which means the coef_ did not converge\n",
            "  warnings.warn(\n",
            "/usr/local/lib/python3.11/dist-packages/sklearn/linear_model/_sag.py:348: ConvergenceWarning: The max_iter was reached which means the coef_ did not converge\n",
            "  warnings.warn(\n",
            "/usr/local/lib/python3.11/dist-packages/sklearn/linear_model/_sag.py:348: ConvergenceWarning: The max_iter was reached which means the coef_ did not converge\n",
            "  warnings.warn(\n"
          ]
        },
        {
          "output_type": "stream",
          "name": "stdout",
          "text": [
            "\n",
            "Model Performance on Simple Random Sampling:\n",
            "Logistic Regression: 0.56\n",
            "Decision Tree: 0.87\n",
            "Random Forest: 0.97\n",
            "Support Vector Machine: 0.59\n",
            "K-Nearest Neighbors: 0.67\n",
            "\n",
            "Model Performance on Stratified Sampling:\n",
            "Logistic Regression: 0.66\n",
            "Decision Tree: 0.94\n",
            "Random Forest: 0.97\n",
            "Support Vector Machine: 0.65\n",
            "K-Nearest Neighbors: 0.71\n",
            "\n",
            "Model Performance on Systematic Sampling:\n",
            "Logistic Regression: 0.66\n",
            "Decision Tree: 0.94\n",
            "Random Forest: 1.00\n",
            "Support Vector Machine: 0.65\n",
            "K-Nearest Neighbors: 0.68\n",
            "\n",
            "Model Performance on Cluster Sampling:\n",
            "Logistic Regression: 0.85\n",
            "Decision Tree: 1.00\n",
            "Random Forest: 1.00\n",
            "Support Vector Machine: 0.92\n",
            "K-Nearest Neighbors: 0.92\n",
            "\n",
            "Model Performance on Bootstrap Sampling:\n",
            "Logistic Regression: 0.64\n",
            "Decision Tree: 0.99\n",
            "Random Forest: 1.00\n",
            "Support Vector Machine: 0.73\n",
            "K-Nearest Neighbors: 0.90\n"
          ]
        }
      ]
    },
    {
      "cell_type": "code",
      "source": [
        "all_results = {\n",
        "    \"Simple Random Sampling\": results_simple,\n",
        "    \"Stratified Sampling\": results_stratified,\n",
        "    \"Systematic Sampling\": results_systematic,\n",
        "    \"Cluster Sampling\": results_cluster,\n",
        "    \"Bootstrap Sampling\": results_bootstrap,\n",
        "}\n",
        "\n",
        "best_sampling_for_model = {}\n",
        "for model in models.keys():\n",
        "    best_sampling = max(all_results, key=lambda sampling: all_results[sampling][model])\n",
        "    best_accuracy = all_results[best_sampling][model]\n",
        "    best_sampling_for_model[model] = (best_sampling, best_accuracy)\n",
        "\n",
        "print(\"\\nBest Sampling Technique for Each Model:\")\n",
        "for model, (sampling, accuracy) in best_sampling_for_model.items():\n",
        "    print(f\"{model}: Best Sampling - {sampling}, Accuracy - {accuracy:.2f}\")\n"
      ],
      "metadata": {
        "colab": {
          "base_uri": "https://localhost:8080/"
        },
        "id": "WPXYLLDX87Ho",
        "outputId": "c9521d71-637c-445d-8382-39851a801dc5"
      },
      "execution_count": 55,
      "outputs": [
        {
          "output_type": "stream",
          "name": "stdout",
          "text": [
            "\n",
            "Best Sampling Technique for Each Model:\n",
            "Logistic Regression: Best Sampling - Cluster Sampling, Accuracy - 0.85\n",
            "Decision Tree: Best Sampling - Cluster Sampling, Accuracy - 1.00\n",
            "Random Forest: Best Sampling - Systematic Sampling, Accuracy - 1.00\n",
            "Support Vector Machine: Best Sampling - Cluster Sampling, Accuracy - 0.92\n",
            "K-Nearest Neighbors: Best Sampling - Cluster Sampling, Accuracy - 0.92\n"
          ]
        }
      ]
    },
    {
      "cell_type": "code",
      "source": [],
      "metadata": {
        "id": "KLT5tg9W-8iW"
      },
      "execution_count": 55,
      "outputs": []
    }
  ]
}